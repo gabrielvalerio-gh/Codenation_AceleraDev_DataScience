{
 "cells": [
  {
   "cell_type": "markdown",
   "metadata": {},
   "source": [
    "# Desafio 7\n",
    "\n",
    "O contexto do desafio gira em torno dos resultados do ENEM 2016 (disponíveis no arquivo train.csv). Este arquivo, e apenas ele, deve ser utilizado para todos os desafios. Qualquer dúvida a respeito das colunas, consulte o [Dicionário dos Microdados do Enem 2016](https://s3-us-west-1.amazonaws.com/acceleration-assets-highway/data-science/dicionario-de-dados.zip).\n",
    "\n",
    "No arquivo test.csv crie um modelo para prever nota da prova de matemática (coluna `NU_NOTA_MT`) de quem participou do ENEM 2016. \n",
    "\n",
    "Salve sua resposta em um arquivo chamado answer.csv com duas colunas: `NU_INSCRICAO` e `NU_NOTA_MT`.\n"
   ]
  },
  {
   "cell_type": "code",
   "execution_count": 1,
   "metadata": {},
   "outputs": [],
   "source": [
    "import pandas as pd\n",
    "import numpy as np\n",
    "import matplotlib.pyplot as plt\n",
    "import seaborn as sns\n",
    "plt.style.use('ggplot')\n",
    "%matplotlib inline\n",
    "from sklearn.linear_model import LinearRegression"
   ]
  },
  {
   "cell_type": "code",
   "execution_count": 2,
   "metadata": {},
   "outputs": [],
   "source": [
    "#Carregando dados de treino e teste\n",
    "\n",
    "df_treino = pd.read_csv('train.csv')\n",
    "df_teste = pd.read_csv('test.csv')"
   ]
  },
  {
   "cell_type": "code",
   "execution_count": 3,
   "metadata": {},
   "outputs": [
    {
     "data": {
      "text/html": [
       "<div>\n",
       "<style scoped>\n",
       "    .dataframe tbody tr th:only-of-type {\n",
       "        vertical-align: middle;\n",
       "    }\n",
       "\n",
       "    .dataframe tbody tr th {\n",
       "        vertical-align: top;\n",
       "    }\n",
       "\n",
       "    .dataframe thead th {\n",
       "        text-align: right;\n",
       "    }\n",
       "</style>\n",
       "<table border=\"1\" class=\"dataframe\">\n",
       "  <thead>\n",
       "    <tr style=\"text-align: right;\">\n",
       "      <th></th>\n",
       "      <th>Unnamed: 0</th>\n",
       "      <th>NU_INSCRICAO</th>\n",
       "      <th>NU_ANO</th>\n",
       "      <th>CO_MUNICIPIO_RESIDENCIA</th>\n",
       "      <th>NO_MUNICIPIO_RESIDENCIA</th>\n",
       "      <th>CO_UF_RESIDENCIA</th>\n",
       "      <th>SG_UF_RESIDENCIA</th>\n",
       "      <th>NU_IDADE</th>\n",
       "      <th>TP_SEXO</th>\n",
       "      <th>TP_ESTADO_CIVIL</th>\n",
       "      <th>...</th>\n",
       "      <th>Q041</th>\n",
       "      <th>Q042</th>\n",
       "      <th>Q043</th>\n",
       "      <th>Q044</th>\n",
       "      <th>Q045</th>\n",
       "      <th>Q046</th>\n",
       "      <th>Q047</th>\n",
       "      <th>Q048</th>\n",
       "      <th>Q049</th>\n",
       "      <th>Q050</th>\n",
       "    </tr>\n",
       "  </thead>\n",
       "  <tbody>\n",
       "    <tr>\n",
       "      <th>0</th>\n",
       "      <td>1</td>\n",
       "      <td>ed50e8aaa58e7a806c337585efee9ca41f1eb1ad</td>\n",
       "      <td>2016</td>\n",
       "      <td>4314902</td>\n",
       "      <td>Porto Alegre</td>\n",
       "      <td>43</td>\n",
       "      <td>RS</td>\n",
       "      <td>24</td>\n",
       "      <td>M</td>\n",
       "      <td>0.0</td>\n",
       "      <td>...</td>\n",
       "      <td>5.0</td>\n",
       "      <td>A</td>\n",
       "      <td>A</td>\n",
       "      <td>A</td>\n",
       "      <td>A</td>\n",
       "      <td>A</td>\n",
       "      <td>A</td>\n",
       "      <td>A</td>\n",
       "      <td>B</td>\n",
       "      <td>D</td>\n",
       "    </tr>\n",
       "    <tr>\n",
       "      <th>1</th>\n",
       "      <td>2</td>\n",
       "      <td>2c3acac4b33ec2b195d77e7c04a2d75727fad723</td>\n",
       "      <td>2016</td>\n",
       "      <td>2304707</td>\n",
       "      <td>Granja</td>\n",
       "      <td>23</td>\n",
       "      <td>CE</td>\n",
       "      <td>17</td>\n",
       "      <td>F</td>\n",
       "      <td>0.0</td>\n",
       "      <td>...</td>\n",
       "      <td>NaN</td>\n",
       "      <td>A</td>\n",
       "      <td>A</td>\n",
       "      <td>C</td>\n",
       "      <td>A</td>\n",
       "      <td>B</td>\n",
       "      <td>A</td>\n",
       "      <td>A</td>\n",
       "      <td>C</td>\n",
       "      <td>A</td>\n",
       "    </tr>\n",
       "    <tr>\n",
       "      <th>2</th>\n",
       "      <td>3</td>\n",
       "      <td>f4545f8ccb9ff5c8aad7d32951b3f251a26e6568</td>\n",
       "      <td>2016</td>\n",
       "      <td>2304400</td>\n",
       "      <td>Fortaleza</td>\n",
       "      <td>23</td>\n",
       "      <td>CE</td>\n",
       "      <td>21</td>\n",
       "      <td>F</td>\n",
       "      <td>0.0</td>\n",
       "      <td>...</td>\n",
       "      <td>NaN</td>\n",
       "      <td>A</td>\n",
       "      <td>A</td>\n",
       "      <td>A</td>\n",
       "      <td>A</td>\n",
       "      <td>C</td>\n",
       "      <td>A</td>\n",
       "      <td>A</td>\n",
       "      <td>B</td>\n",
       "      <td>A</td>\n",
       "    </tr>\n",
       "    <tr>\n",
       "      <th>3</th>\n",
       "      <td>4</td>\n",
       "      <td>3d6ec248fef899c414e77f82d5c6d2bffbeaf7fe</td>\n",
       "      <td>2016</td>\n",
       "      <td>3304557</td>\n",
       "      <td>Rio de Janeiro</td>\n",
       "      <td>33</td>\n",
       "      <td>RJ</td>\n",
       "      <td>25</td>\n",
       "      <td>F</td>\n",
       "      <td>0.0</td>\n",
       "      <td>...</td>\n",
       "      <td>5.0</td>\n",
       "      <td>C</td>\n",
       "      <td>A</td>\n",
       "      <td>A</td>\n",
       "      <td>A</td>\n",
       "      <td>A</td>\n",
       "      <td>D</td>\n",
       "      <td>A</td>\n",
       "      <td>A</td>\n",
       "      <td>A</td>\n",
       "    </tr>\n",
       "    <tr>\n",
       "      <th>4</th>\n",
       "      <td>5</td>\n",
       "      <td>bf896ac8d3ecadd6dba1dfbf50110afcbf5d3268</td>\n",
       "      <td>2016</td>\n",
       "      <td>1302603</td>\n",
       "      <td>Manaus</td>\n",
       "      <td>13</td>\n",
       "      <td>AM</td>\n",
       "      <td>28</td>\n",
       "      <td>M</td>\n",
       "      <td>0.0</td>\n",
       "      <td>...</td>\n",
       "      <td>NaN</td>\n",
       "      <td>A</td>\n",
       "      <td>A</td>\n",
       "      <td>A</td>\n",
       "      <td>A</td>\n",
       "      <td>A</td>\n",
       "      <td>A</td>\n",
       "      <td>A</td>\n",
       "      <td>A</td>\n",
       "      <td>A</td>\n",
       "    </tr>\n",
       "  </tbody>\n",
       "</table>\n",
       "<p>5 rows × 167 columns</p>\n",
       "</div>"
      ],
      "text/plain": [
       "   Unnamed: 0                              NU_INSCRICAO  NU_ANO  \\\n",
       "0           1  ed50e8aaa58e7a806c337585efee9ca41f1eb1ad    2016   \n",
       "1           2  2c3acac4b33ec2b195d77e7c04a2d75727fad723    2016   \n",
       "2           3  f4545f8ccb9ff5c8aad7d32951b3f251a26e6568    2016   \n",
       "3           4  3d6ec248fef899c414e77f82d5c6d2bffbeaf7fe    2016   \n",
       "4           5  bf896ac8d3ecadd6dba1dfbf50110afcbf5d3268    2016   \n",
       "\n",
       "   CO_MUNICIPIO_RESIDENCIA NO_MUNICIPIO_RESIDENCIA  CO_UF_RESIDENCIA  \\\n",
       "0                  4314902            Porto Alegre                43   \n",
       "1                  2304707                  Granja                23   \n",
       "2                  2304400               Fortaleza                23   \n",
       "3                  3304557          Rio de Janeiro                33   \n",
       "4                  1302603                  Manaus                13   \n",
       "\n",
       "  SG_UF_RESIDENCIA  NU_IDADE TP_SEXO  TP_ESTADO_CIVIL  ...  Q041  Q042  Q043  \\\n",
       "0               RS        24       M              0.0  ...   5.0     A     A   \n",
       "1               CE        17       F              0.0  ...   NaN     A     A   \n",
       "2               CE        21       F              0.0  ...   NaN     A     A   \n",
       "3               RJ        25       F              0.0  ...   5.0     C     A   \n",
       "4               AM        28       M              0.0  ...   NaN     A     A   \n",
       "\n",
       "  Q044  Q045 Q046  Q047  Q048  Q049  Q050  \n",
       "0    A     A    A     A     A     B     D  \n",
       "1    C     A    B     A     A     C     A  \n",
       "2    A     A    C     A     A     B     A  \n",
       "3    A     A    A     D     A     A     A  \n",
       "4    A     A    A     A     A     A     A  \n",
       "\n",
       "[5 rows x 167 columns]"
      ]
     },
     "execution_count": 3,
     "metadata": {},
     "output_type": "execute_result"
    }
   ],
   "source": [
    "df_treino.head()"
   ]
  },
  {
   "cell_type": "code",
   "execution_count": 4,
   "metadata": {},
   "outputs": [],
   "source": [
    "#Selecionando váriaveis com notas para verificar correlações e treinar o modelo\n",
    "#Selecionamos apenas as notas que serão utilizadas\n",
    "\n",
    "notas = [\n",
    "    'NU_NOTA_CN',\n",
    "    'NU_NOTA_CH',\n",
    "    'NU_NOTA_LC',\n",
    "    'NU_NOTA_REDACAO',\n",
    "    'NU_NOTA_COMP1',\n",
    "    'NU_NOTA_COMP2',\n",
    "    'NU_NOTA_COMP3',\n",
    "    'NU_NOTA_COMP4',\n",
    "    'NU_NOTA_COMP5']"
   ]
  },
  {
   "cell_type": "code",
   "execution_count": 5,
   "metadata": {},
   "outputs": [
    {
     "data": {
      "text/plain": [
       "<matplotlib.axes._subplots.AxesSubplot at 0x6ce74f5f88>"
      ]
     },
     "execution_count": 5,
     "metadata": {},
     "output_type": "execute_result"
    },
    {
     "data": {
      "image/png": "[encoded data removed]",
      "text/plain": [
       "<Figure size 792x576 with 2 Axes>"
      ]
     },
     "metadata": {
      "needs_background": "light"
     },
     "output_type": "display_data"
    }
   ],
   "source": [
    "#Verificando correlações com HeatMap\n",
    "\n",
    "corr = df_treino[notas].corr()\n",
    "ax = plt.subplots(figsize=(11, 8))\n",
    "sns.heatmap(corr,  annot=True, annot_kws={\"size\": 10})"
   ]
  },
  {
   "cell_type": "code",
   "execution_count": 6,
   "metadata": {},
   "outputs": [
    {
     "name": "stdout",
     "output_type": "stream",
     "text": [
      "NU_NOTA_CN         3389\n",
      "NU_NOTA_CH         3389\n",
      "NU_NOTA_LC         3597\n",
      "NU_NOTA_REDACAO    3597\n",
      "NU_NOTA_COMP1      3597\n",
      "NU_NOTA_COMP2      3597\n",
      "NU_NOTA_COMP3      3597\n",
      "NU_NOTA_COMP4      3597\n",
      "NU_NOTA_COMP5      3597\n",
      "dtype: int64\n",
      " \n",
      "NU_NOTA_CN         1134\n",
      "NU_NOTA_CH         1134\n",
      "NU_NOTA_LC         1199\n",
      "NU_NOTA_REDACAO    1199\n",
      "NU_NOTA_COMP1      1199\n",
      "NU_NOTA_COMP2      1199\n",
      "NU_NOTA_COMP3      1199\n",
      "NU_NOTA_COMP4      1199\n",
      "NU_NOTA_COMP5      1199\n",
      "dtype: int64\n"
     ]
    }
   ],
   "source": [
    "# Verificando valores nulos nos dados de teste e treino\n",
    "\n",
    "print(df_treino[notas].isnull().sum())\n",
    "print(\" \")\n",
    "print(df_teste[notas].isnull().sum())"
   ]
  },
  {
   "cell_type": "code",
   "execution_count": 7,
   "metadata": {},
   "outputs": [
    {
     "name": "stdout",
     "output_type": "stream",
     "text": [
      "NU_NOTA_CN         0\n",
      "NU_NOTA_CH         0\n",
      "NU_NOTA_LC         0\n",
      "NU_NOTA_REDACAO    0\n",
      "NU_NOTA_COMP1      0\n",
      "NU_NOTA_COMP2      0\n",
      "NU_NOTA_COMP3      0\n",
      "NU_NOTA_COMP4      0\n",
      "NU_NOTA_COMP5      0\n",
      "dtype: int64\n",
      " \n",
      "NU_NOTA_CN         0\n",
      "NU_NOTA_CH         0\n",
      "NU_NOTA_LC         0\n",
      "NU_NOTA_REDACAO    0\n",
      "NU_NOTA_COMP1      0\n",
      "NU_NOTA_COMP2      0\n",
      "NU_NOTA_COMP3      0\n",
      "NU_NOTA_COMP4      0\n",
      "NU_NOTA_COMP5      0\n",
      "dtype: int64\n"
     ]
    }
   ],
   "source": [
    "#Selecionando apenas valores não-nulos nos dados de teste e treino\n",
    "\n",
    "df_treino = df_treino.loc[\n",
    "      (df_treino['NU_NOTA_CN'].notnull())  & (df_treino['NU_NOTA_CN'] != 0) & (df_treino['NU_NOTA_CH'].notnull())      & (df_treino['NU_NOTA_CH'] != 0) \n",
    "    & (df_treino['NU_NOTA_LC'].notnull())  & (df_treino['NU_NOTA_LC'] != 0) & (df_treino['NU_NOTA_REDACAO'].notnull()) & (df_treino['NU_NOTA_REDACAO'] != 0)    \n",
    "]\n",
    "\n",
    "df_teste = df_teste.loc[\n",
    "      (df_teste['NU_NOTA_CN'].notnull())  & (df_teste['NU_NOTA_CN'] != 0) & (df_teste['NU_NOTA_CH'].notnull())      & (df_teste['NU_NOTA_CH'] != 0) \n",
    "    & (df_teste['NU_NOTA_LC'].notnull())  & (df_teste['NU_NOTA_LC'] != 0) & (df_teste['NU_NOTA_REDACAO'].notnull()) & (df_teste['NU_NOTA_REDACAO'] != 0)    \n",
    "]\n",
    "\n",
    "\n",
    "print(df_treino[notas].isnull().sum())\n",
    "print(\" \")\n",
    "print(df_teste[notas].isnull().sum())"
   ]
  },
  {
   "cell_type": "code",
   "execution_count": 8,
   "metadata": {},
   "outputs": [],
   "source": [
    "#Definindo treino e teste\n",
    "\n",
    "X_treino = df_treino[['NU_NOTA_CN','NU_NOTA_LC','NU_NOTA_CH','NU_NOTA_REDACAO']]\n",
    "Y_treino = df_treino['NU_NOTA_MT']\n",
    "\n",
    "X_teste = df_teste[['NU_NOTA_CN','NU_NOTA_LC','NU_NOTA_CH','NU_NOTA_REDACAO']]"
   ]
  },
  {
   "cell_type": "code",
   "execution_count": 9,
   "metadata": {},
   "outputs": [
    {
     "data": {
      "text/plain": [
       "LinearRegression(copy_X=True, fit_intercept=True, n_jobs=None, normalize=False)"
      ]
     },
     "execution_count": 9,
     "metadata": {},
     "output_type": "execute_result"
    }
   ],
   "source": [
    "#Treinando modelo de Regressão Linear Simples\n",
    "\n",
    "lreg = LinearRegression()\n",
    "\n",
    "lreg.fit(X_treino, Y_treino)"
   ]
  },
  {
   "cell_type": "code",
   "execution_count": 10,
   "metadata": {},
   "outputs": [
    {
     "name": "stdout",
     "output_type": "stream",
     "text": [
      "[436, 433, 580, 539, 464, 538, 436, 474, 467, 452, 570, 530, 467, 387, 433, 496, 636, 429, 587, 392, 453, 405, 564, 507, 547, 489, 462, 433, 454, 608, 491, 429, 514, 458, 439, 513, 492, 485, 456, 443, 575, 494, 496, 486, 410, 443, 419, 448, 477, 548, 579, 426, 472, 604, 489, 559, 480, 402, 509, 477, 439, 474, 387, 420, 540, 438, 419, 485, 504, 411, 511, 423, 413, 447, 541, 438, 473, 485, 475, 417, 405, 697, 394, 503, 549, 517, 468, 397, 577, 418, 485, 430, 448, 529, 416, 435, 394, 589, 545, 410, 517, 473, 465, 463, 480, 485, 474, 445, 424, 514, 508, 440, 398, 489, 573, 448, 489, 428, 481, 520, 388, 462, 388, 434, 423, 500, 425, 442, 498, 515, 441, 453, 480, 535, 442, 491, 592, 435, 479, 483, 463, 416, 538, 467, 513, 434, 585, 438, 558, 460, 433, 512, 465, 382, 517, 504, 432, 539, 476, 466, 542, 434, 459, 545, 456, 490, 470, 442, 417, 485, 497, 430, 431, 416, 440, 654, 436, 500, 491, 435, 501, 426, 385, 445, 404, 448, 435, 390, 573, 418, 559, 550, 439, 460, 403, 438, 438, 446, 447, 399, 373, 451, 572, 497, 458, 473, 528, 441, 520, 426, 456, 446, 474, 533, 535, 597, 480, 538, 541, 708, 475, 493, 490, 469, 586, 462, 397, 429, 667, 518, 457, 636, 566, 493, 539, 450, 581, 417, 403, 505, 638, 424, 388, 466, 500, 486, 503, 485, 546, 422, 453, 584, 444, 436, 402, 434, 523, 600, 429, 488, 626, 435, 409, 384, 506, 577, 440, 421, 515, 415, 485, 605, 448, 410, 458, 387, 499, 454, 434, 463, 429, 464, 447, 604, 441, 428, 520, 429, 477, 513, 468, 555, 538, 485, 456, 524, 470, 465, 453, 494, 588, 531, 480, 473, 455, 434, 482, 620, 431, 446, 468, 519, 419, 440, 493, 473, 410, 440, 605, 513, 454, 444, 655, 442, 444, 432, 428, 481, 398, 473, 413, 474, 484, 452, 403, 540, 457, 407, 491, 459, 467, 446, 394, 440, 461, 413, 413, 541, 384, 523, 429, 475, 586, 433, 532, 457, 618, 384, 514, 520, 478, 517, 487, 493, 463, 533, 485, 434, 394, 445, 534, 411, 471, 443, 532, 402, 515, 493, 464, 478, 549, 438, 462, 418, 433, 477, 572, 527, 423, 613, 410, 519, 447, 476, 454, 366, 553, 529, 413, 497, 494, 509, 429, 601, 546, 508, 471, 532, 498, 408, 476, 427, 415, 425, 494, 517, 521, 533, 515, 464, 404, 499, 614, 463, 408, 454, 451, 459, 503, 395, 456, 447, 578, 451, 606, 429, 470, 531, 504, 562, 493, 455, 457, 475, 428, 421, 543, 492, 530, 611, 394, 469, 527, 422, 623, 432, 460, 421, 398, 545, 563, 423, 556, 413, 375, 453, 509, 489, 452, 456, 469, 445, 412, 555, 551, 560, 384, 518, 530, 496, 499, 576, 650, 417, 607, 390, 411, 464, 395, 434, 452, 638, 528, 461, 402, 478, 518, 513, 389, 452, 426, 435, 411, 606, 549, 613, 496, 489, 501, 573, 438, 483, 584, 520, 594, 487, 514, 470, 495, 430, 425, 424, 425, 418, 567, 520, 396, 440, 394, 400, 390, 672, 410, 542, 480, 487, 462, 488, 553, 441, 398, 619, 538, 450, 448, 412, 422, 448, 397, 566, 467, 476, 470, 428, 509, 575, 530, 556, 429, 413, 572, 440, 449, 482, 607, 517, 490, 409, 538, 464, 501, 530, 402, 453, 483, 428, 426, 409, 606, 396, 470, 539, 484, 424, 527, 494, 442, 594, 613, 483, 634, 473, 449, 423, 384, 546, 505, 431, 624, 588, 555, 619, 486, 465, 530, 574, 539, 644, 549, 528, 510, 508, 554, 640, 471, 634, 419, 460, 416, 473, 553, 507, 470, 546, 477, 473, 548, 530, 494, 387, 599, 499, 391, 510, 485, 400, 459, 441, 546, 452, 543, 414, 512, 487, 391, 401, 526, 427, 576, 536, 426, 482, 441, 385, 561, 454, 439, 474, 522, 482, 570, 534, 438, 445, 448, 473, 421, 460, 456, 474, 598, 601, 496, 461, 448, 535, 410, 413, 430, 476, 442, 427, 426, 532, 460, 503, 496, 472, 457, 649, 455, 427, 409, 416, 515, 448, 530, 430, 440, 460, 550, 533, 427, 473, 518, 546, 456, 386, 563, 395, 439, 474, 415, 545, 491, 413, 541, 469, 447, 516, 457, 447, 433, 520, 529, 618, 532, 432, 507, 626, 495, 575, 483, 469, 512, 426, 430, 661, 525, 491, 611, 526, 458, 590, 493, 440, 637, 563, 463, 409, 447, 475, 387, 429, 528, 429, 550, 566, 538, 455, 438, 439, 441, 486, 597, 510, 432, 508, 401, 452, 607, 456, 525, 512, 438, 471, 444, 462, 486, 471, 483, 491, 480, 433, 422, 442, 476, 627, 515, 484, 434, 571, 561, 416, 480, 456, 429, 450, 402, 436, 440, 420, 591, 450, 429, 519, 508, 462, 419, 611, 431, 455, 438, 427, 534, 533, 576, 603, 628, 433, 417, 498, 446, 470, 546, 491, 415, 462, 500, 475, 389, 543, 473, 380, 417, 373, 401, 596, 572, 429, 504, 445, 511, 517, 452, 620, 485, 446, 589, 442, 499, 697, 458, 480, 404, 444, 465, 449, 683, 534, 441, 435, 415, 472, 564, 641, 529, 514, 426, 569, 516, 358, 407, 391, 449, 445, 596, 461, 460, 411, 445, 539, 571, 496, 370, 511, 493, 606, 447, 407, 435, 413, 454, 549, 453, 616, 482, 494, 386, 413, 494, 437, 483, 428, 409, 478, 434, 465, 509, 433, 396, 600, 413, 548, 380, 481, 541, 532, 605, 604, 430, 462, 430, 407, 636, 448, 385, 424, 510, 421, 412, 468, 529, 436, 450, 548, 615, 437, 436, 541, 502, 397, 466, 537, 480, 383, 582, 454, 530, 466, 413, 419, 486, 530, 510, 386, 550, 552, 492, 473, 519, 432, 501, 467, 457, 429, 445, 445, 432, 472, 513, 460, 462, 649, 434, 433, 593, 579, 552, 406, 410, 483, 455, 508, 435, 552, 410, 543, 453, 471, 447, 433, 481, 473, 543, 401, 424, 427, 479, 401, 598, 406, 446, 421, 533, 427, 504, 471, 495, 444, 578, 515, 408, 483, 472, 546, 448, 427, 524, 603, 564, 533, 629, 484, 507, 481, 457, 426, 500, 447, 434, 455, 433, 418, 547, 451, 552, 416, 594, 579, 471, 597, 490, 487, 391, 513, 434, 436, 431, 561, 642, 492, 444, 515, 519, 495, 480, 446, 548, 439, 434, 469, 388, 601, 459, 457, 464, 465, 501, 500, 442, 398, 491, 385, 483, 571, 451, 462, 520, 427, 394, 562, 643, 464, 486, 460, 394, 457, 508, 438, 487, 495, 469, 427, 421, 668, 579, 608, 465, 483, 440, 440, 432, 426, 430, 422, 529, 431, 449, 525, 520, 508, 431, 478, 414, 471, 482, 440, 523, 537, 600, 518, 449, 431, 483, 424, 438, 390, 496, 483, 414, 404, 484, 441, 603, 454, 484, 484, 431, 462, 494, 554, 452, 407, 476, 565, 577, 562, 415, 426, 602, 479, 456, 494, 444, 424, 407, 515, 495, 511, 400, 485, 588, 553, 472, 453, 414, 575, 460, 472, 531, 485, 491, 407, 386, 435, 439, 497, 441, 491, 500, 470, 491, 442, 492, 425, 597, 488, 417, 466, 443, 506, 422, 441, 465, 545, 430, 567, 479, 591, 438, 425, 453, 397, 435, 460, 502, 405, 552, 535, 522, 461, 513, 472, 653, 386, 554, 434, 462, 482, 447, 566, 575, 557, 391, 551, 427, 432, 429, 425, 423, 439, 468, 401, 550, 511, 475, 519, 500, 478, 445, 466, 587, 741, 461, 425, 484, 479, 546, 442, 506, 482, 551, 542, 414, 442, 660, 543, 489, 445, 430, 393, 447, 523, 449, 462, 471, 517, 460, 474, 471, 623, 513, 446, 447, 450, 469, 449, 453, 416, 452, 493, 632, 415, 551, 494, 519, 525, 402, 400, 515, 690, 460, 421, 517, 623, 500, 580, 412, 412, 462, 579, 431, 428, 439, 580, 573, 472, 478, 608, 520, 418, 447, 462, 551, 472, 451, 437, 433, 455, 453, 550, 515, 483, 453, 515, 440, 463, 413, 472, 605, 527, 436, 462, 403, 483, 498, 562, 427, 431, 560, 477, 572, 423, 498, 512, 465, 421, 394, 460, 633, 444, 430, 427, 419, 412, 429, 531, 437, 450, 493, 434, 479, 485, 466, 468, 609, 382, 469, 479, 470, 452, 484, 493, 379, 574, 417, 463, 498, 582, 458, 537, 516, 402, 469, 394, 433, 426, 574, 544, 462, 507, 484, 551, 464, 520, 430, 429, 448, 429, 557, 456, 432, 514, 438, 363, 419, 467, 431, 615, 484, 496, 414, 529, 399, 480, 691, 461, 482, 511, 533, 467, 424, 452, 496, 429, 425, 466, 449, 534, 414, 518, 397, 484, 426, 429, 626, 464, 439, 546, 569, 530, 449, 564, 567, 387, 411, 392, 466, 518, 424, 561, 512, 391, 456, 524, 523, 544, 481, 449, 423, 584, 452, 460, 429, 494, 589, 580, 428, 506, 538, 426, 508, 515, 601, 471, 473, 467, 525, 475, 534, 693, 462, 513, 442, 404, 433, 401, 446, 547, 469, 517, 510, 468, 501, 499, 500, 408, 461, 698, 397, 419, 596, 447, 432, 490, 488, 449, 501, 611, 586, 499, 421, 392, 562, 402, 609, 599, 481, 411, 469, 501, 517, 506, 594, 528, 413, 519, 501, 569, 511, 415, 522, 405, 466, 440, 611, 549, 604, 456, 500, 489, 514, 427, 394, 546, 438, 471, 467, 475, 555, 493, 501, 555, 426, 459, 485, 463, 592, 507, 432, 427, 582, 558, 491, 614, 453, 403, 429, 504, 550, 458, 424, 486, 416, 525, 428, 470, 433, 466, 531, 494, 528, 567, 449, 643, 525, 472, 431, 527, 611, 647, 542, 481, 381, 475, 596, 475, 548, 471, 475, 459, 480, 459, 460, 412, 427, 473, 664, 540, 456, 476, 441, 445, 442, 470, 426, 461, 434, 418, 418, 456, 540, 458, 467, 473, 459, 474, 527, 481, 517, 499, 506, 402, 549, 451, 480, 529, 477, 671, 476, 469, 531, 639, 449, 506, 394, 426, 534, 444, 574, 466, 531, 629, 429, 476, 436, 498, 411, 664, 471, 499, 504, 448, 587, 488, 461, 509, 492, 389, 455, 542, 574, 409, 485, 542, 468, 432, 469, 496, 553, 458, 522, 403, 406, 454, 459, 584, 412, 572, 426, 533, 484, 647, 469, 482, 506, 423, 436, 577, 476, 588, 563, 408, 489, 559, 456, 524, 471, 545, 603, 495, 427, 410, 465, 505, 508, 381, 386, 419, 603, 406, 485, 477, 478, 466, 605, 592, 605, 538, 560, 537, 524, 485, 532, 599, 581, 420, 466, 468, 476, 455, 409, 435, 458, 434, 455, 465, 456, 626, 386, 504, 465, 544, 492, 442, 522, 526, 481, 500, 433, 519, 412, 564, 398, 575, 378, 414, 516, 530, 410, 478, 510, 465, 448, 431, 428, 432, 415, 474, 420, 382, 457, 397, 593, 527, 492, 476, 466, 555, 544, 552, 456, 499, 520, 488, 481, 418, 570, 502, 405, 466, 491, 430, 450, 526, 612, 452, 510, 467, 606, 461, 484, 502, 496, 399, 598, 434, 620, 441, 409, 583, 468, 425, 459, 481, 369, 559, 380, 433, 486, 487, 534, 431, 462, 490, 462, 558, 562, 459, 523, 510, 393, 442, 680, 489, 428, 541, 559, 430, 429, 423, 401, 400, 472, 474, 457, 530, 555, 425, 425, 543, 454, 439, 626, 448, 574, 557, 378, 452, 573, 537, 525, 544, 466, 455, 540, 499, 504, 607, 543, 496, 454, 538, 385, 431, 440, 458, 456, 498, 498, 417, 561, 464, 437, 437, 530, 456, 489, 479, 420, 510, 438, 391, 462, 401, 462, 380, 399, 507, 418, 411, 487, 478, 431, 427, 461, 577, 476, 591, 462, 593, 562, 488, 408, 444, 449, 432, 490, 391, 418, 476, 594, 579, 446, 405, 566, 508, 414, 520, 433, 463, 433, 410, 457, 417, 479, 461, 411, 523, 455, 614, 491, 573, 520, 490, 549, 464, 465, 530, 584, 463, 432, 400, 422, 580, 482, 426, 398, 607, 477, 422, 512, 515, 482, 510, 568, 440, 433, 438, 434, 612, 414, 496, 521, 496, 383, 397, 590, 638, 425, 382, 452, 444, 527, 514, 424, 457, 446, 443, 562, 430, 400, 455, 449, 462, 436, 456, 464, 429, 531, 530, 432, 379, 459, 419, 521, 512, 509, 440, 499, 520, 461, 439, 452, 475, 470, 433, 420, 445, 429, 450, 549, 416, 508, 402, 615, 551, 448, 663, 431, 519, 422, 384, 424, 485, 480, 501, 456, 559, 554, 419, 409, 449, 433, 420, 424, 454, 559, 606, 601, 399, 714, 610, 433, 432, 458, 520, 627, 424, 491, 426, 420, 413, 417, 492, 524, 381, 465, 531, 436, 406, 470, 410, 473, 526, 457, 378, 579, 618, 423, 379, 613, 436, 652, 532, 493, 506, 466, 435, 453, 518, 514, 489, 442, 531, 483, 515, 464, 482, 484, 514, 474, 516, 383, 414, 501, 466, 592, 423, 420, 667, 405, 434, 440, 519, 446, 583, 478, 483, 404, 548, 479, 626, 504, 466, 480, 413, 502, 689, 538, 426, 484, 478, 414, 520, 458, 591, 472, 401, 510, 420, 564, 439, 504, 511, 584, 458, 558, 456, 414, 469, 550, 458, 511, 402, 416, 413, 441, 445, 441, 502, 459, 481, 606, 459, 642, 504, 423, 573, 437, 430, 429, 407, 471, 559, 422, 595, 538, 455, 510, 466, 479, 469, 486, 449, 471, 597, 466, 507, 601, 439, 487, 399, 481, 477, 478, 470, 469, 455, 394, 445, 533, 440, 452, 565, 434, 535, 465, 488, 467, 387, 412, 524, 636, 443, 473, 463, 531, 554, 560, 437, 409, 386, 492, 531, 526, 508, 517, 394, 709, 444, 406, 616, 528, 512, 589, 501, 462, 448, 445, 556, 449, 449, 399, 503, 448, 509, 444, 522, 457, 453, 503, 430, 485, 543, 502, 570, 495, 614, 413, 444, 444, 434, 527, 446, 466, 409, 525, 563, 509, 486, 541, 412, 528, 434, 469, 487, 402, 452, 379, 586, 595, 447, 463, 578, 444, 515, 412, 502, 471, 578, 491, 550, 416, 448, 397, 428, 540, 479, 396, 407, 462, 504, 457, 534, 416, 417, 451, 404, 527, 554, 501, 495, 465, 468, 483, 421, 441, 552, 546, 465, 487, 451, 453, 401, 739, 536, 454, 438, 520, 482, 468, 524, 493, 461, 653, 482, 617, 462, 468, 548, 624, 496, 453, 497, 465, 492, 391, 476, 514, 456, 417, 492, 386, 437, 465, 463, 541, 427, 436, 591, 472, 482, 448, 434, 437, 470, 472, 456, 453, 642, 579, 376, 415, 459, 533, 444, 430, 420, 458, 462, 551, 548, 507, 434, 553, 544, 540, 435, 421, 500, 417, 433, 481, 438, 437, 571, 484, 479, 488, 438, 469, 421, 467, 470, 445, 599, 396, 433, 598, 489, 496, 440, 422, 523, 671, 489, 550, 490, 669, 533, 588, 448, 656, 546, 549, 456, 657, 438, 547, 447, 444, 604, 497, 493, 540, 448, 502, 554, 437, 471, 451, 474, 650, 472, 440, 537, 541, 532, 444, 590, 425, 527, 423, 476, 485, 433, 437, 376, 470, 660, 387, 564, 423, 425, 410, 501, 459, 530, 622, 555, 427, 396, 446, 498, 491, 485, 456, 460, 459, 565, 456, 466, 448, 470, 418, 593, 426, 559, 408, 479, 538, 387, 503, 401, 476, 478, 437, 402, 529, 516, 419, 469, 502, 494, 547, 403, 433, 580, 367, 485, 532, 565, 459, 651, 393, 414, 397, 514, 562, 521, 409, 569, 415, 416, 497, 577, 471, 455, 452, 492, 501, 537, 507, 446, 430, 442, 475, 564, 451, 646, 501, 475, 421, 623, 618, 508, 449, 529, 442, 611, 535, 473, 565, 431, 573, 486, 447, 399, 572, 484, 445, 562, 480, 453, 378, 435, 473, 458, 447, 420, 411, 501, 397, 571, 582, 445, 483, 461, 463, 465, 482, 581, 510, 429, 424, 490, 567, 446, 472, 415, 540, 617, 441, 438, 446, 588, 422, 558, 610, 431, 546, 445, 477, 487, 467, 425, 452, 398, 502, 474, 459, 467, 490, 442, 366, 504, 478, 623, 461, 515, 411, 556, 466, 571, 435, 467, 388, 551, 401, 426, 432, 675, 500, 400, 567, 493, 417, 536, 552, 473, 501, 462, 421, 528, 527, 486, 467, 557, 399, 411, 524, 521, 634, 450, 454, 383, 383, 450, 537, 509, 562, 487, 443, 397, 397, 618, 481, 452, 482, 591, 425, 404, 479, 506, 445, 458, 501, 576, 537, 469, 474, 528, 404, 453, 475, 539, 510, 554, 507, 510, 407, 464, 444, 425, 414, 550, 439, 427, 474, 449, 514, 518, 494, 669, 493, 401, 476, 564, 445, 416, 539, 386, 496, 475, 486, 457, 599, 577, 500, 487, 453, 441, 461, 509, 486, 448, 617, 390, 462, 399, 473, 482, 426, 597, 507, 484, 423, 442, 453, 484, 454, 487, 419, 530, 498, 466, 425, 501, 496, 452, 520, 584, 543, 457, 611, 455, 520, 492, 526, 510, 477, 419, 650, 425, 436, 446, 405, 464, 514, 464, 449, 386, 396, 482, 450, 446, 518, 448, 409, 511, 702, 505, 622, 499, 570, 449, 479, 432, 502, 467, 623, 463, 423, 453, 568, 463, 508, 495, 449, 531, 473, 562, 446, 471, 560, 555, 580, 512, 380, 429, 444, 456, 565, 438, 537, 419, 626, 497, 434, 552, 471, 456, 413, 489, 402, 458, 474, 567, 462, 367, 465, 479, 398, 597, 554, 424, 470, 468, 395, 549, 452, 415, 419, 413, 441, 437, 443, 497, 570, 422, 448, 430, 515, 463, 671, 434, 447, 440, 442, 537, 436, 564, 576, 466, 460, 484, 474, 531, 429, 507, 639, 457, 422, 431, 490, 471, 436, 580, 516, 400, 581, 405, 465, 454, 468, 546, 459, 512, 552, 446, 520, 428, 531, 517, 579, 397, 492, 571, 425, 393, 467, 471, 609, 491, 410, 489, 470, 413, 505, 443, 419, 439, 430, 451, 415, 443, 581, 433, 521, 519, 414, 465, 437, 481, 500, 423, 382, 473, 492, 427, 492, 483, 415, 566, 469, 494, 453, 567, 474, 475, 390, 529, 610, 563, 517, 440, 478, 568, 425, 466, 466, 459, 490, 426, 514, 469, 406, 602, 563, 536, 485, 522, 535, 462, 492, 439, 481, 400, 496, 555, 488, 551, 539, 505, 554, 578, 515, 412, 409, 415, 575, 415, 427, 474, 436, 531, 491, 428, 436, 582, 467, 618, 417, 532, 485, 509, 460, 418, 427, 445, 478, 415, 486, 512, 452, 489, 525, 461, 553, 464, 446, 488, 386, 499, 547, 564, 448, 452, 458, 507, 455, 622, 489, 486, 492, 474, 427, 424, 447, 384, 448, 378, 447, 488, 437, 462, 488, 454, 472, 451, 535, 526, 484, 392, 503, 529, 505, 443, 458, 413, 447, 532, 419, 445, 603, 499, 434, 409, 521, 531, 441, 436, 484, 428, 385, 428, 456, 447, 438, 474, 400, 507, 429, 445, 443, 450, 411, 426, 421, 461, 460, 423, 470, 416, 515, 423, 563, 644, 416, 400, 478, 420, 528, 429, 480, 440, 460, 493, 515, 532, 461, 662, 511, 516, 498, 470, 543, 424, 471, 438, 402, 384, 489, 458, 460, 553, 468, 416, 390, 515, 479, 560, 478, 399, 441, 457, 409, 443, 490, 472, 414, 487, 442, 389, 573, 445, 528, 579, 576, 441, 472, 434, 522, 429, 483, 436, 444, 549, 414, 394, 479, 549, 485, 415, 386, 454, 548, 619, 495, 400, 425, 414, 425, 402, 447, 453, 559, 430, 479, 497, 593, 456, 571, 443, 443, 387, 467, 430, 436, 515, 438, 481, 456, 556, 486, 446, 473, 476, 419, 413, 505, 465, 462, 433, 430, 414, 516, 488, 496, 465, 425, 466, 526, 594, 463, 397, 451, 535, 587, 503, 520, 458, 554, 462, 496, 516, 425, 491, 529, 466, 596, 453, 453, 505, 424, 409, 379, 414, 465, 590, 416, 532, 503, 411, 453, 469, 421, 524, 496, 413, 568, 402, 468, 445, 436, 467, 448, 414, 479, 510, 430, 517, 590, 492, 390, 434, 512, 399, 465, 511, 464, 496, 436, 515, 470, 472, 568, 406, 531, 510, 445, 461, 620, 444]\n"
     ]
    }
   ],
   "source": [
    "#Prevendo .predcit e printando as previsões\n",
    "\n",
    "Y_previsao = lreg.predict(X_teste)\n",
    "Y_previsao = [int(nota) for nota in Y_previsao]\n",
    "print(Y_previsao)"
   ]
  },
  {
   "cell_type": "code",
   "execution_count": 11,
   "metadata": {},
   "outputs": [
    {
     "data": {
      "text/html": [
       "<div>\n",
       "<style scoped>\n",
       "    .dataframe tbody tr th:only-of-type {\n",
       "        vertical-align: middle;\n",
       "    }\n",
       "\n",
       "    .dataframe tbody tr th {\n",
       "        vertical-align: top;\n",
       "    }\n",
       "\n",
       "    .dataframe thead th {\n",
       "        text-align: right;\n",
       "    }\n",
       "</style>\n",
       "<table border=\"1\" class=\"dataframe\">\n",
       "  <thead>\n",
       "    <tr style=\"text-align: right;\">\n",
       "      <th></th>\n",
       "      <th>NU_INSCRICAO</th>\n",
       "      <th>NU_NOTA_MT</th>\n",
       "    </tr>\n",
       "  </thead>\n",
       "  <tbody>\n",
       "    <tr>\n",
       "      <th>0</th>\n",
       "      <td>73ff9fcc02f0a99919906c942c2e1a1042cdcf98</td>\n",
       "      <td>436</td>\n",
       "    </tr>\n",
       "    <tr>\n",
       "      <th>1</th>\n",
       "      <td>71a95f9f1b91a82c65ad94abbdf9f54e6066f968</td>\n",
       "      <td>433</td>\n",
       "    </tr>\n",
       "    <tr>\n",
       "      <th>2</th>\n",
       "      <td>b38a03232f43b11c9d0788abaf060f7366053b6d</td>\n",
       "      <td>580</td>\n",
       "    </tr>\n",
       "    <tr>\n",
       "      <th>4</th>\n",
       "      <td>715494628a50142ce8cb17191cfe6d0f3cae0934</td>\n",
       "      <td>539</td>\n",
       "    </tr>\n",
       "    <tr>\n",
       "      <th>5</th>\n",
       "      <td>e656d6bad65c93fb2880f1eba5037008c8e75774</td>\n",
       "      <td>464</td>\n",
       "    </tr>\n",
       "    <tr>\n",
       "      <th>...</th>\n",
       "      <td>...</td>\n",
       "      <td>...</td>\n",
       "    </tr>\n",
       "    <tr>\n",
       "      <th>4570</th>\n",
       "      <td>13aaf6335f43cfc1b8baeac559324f20b2653724</td>\n",
       "      <td>510</td>\n",
       "    </tr>\n",
       "    <tr>\n",
       "      <th>4571</th>\n",
       "      <td>dac0f22429c7f8e3931d0abaf5dfc8e5c772a48b</td>\n",
       "      <td>445</td>\n",
       "    </tr>\n",
       "    <tr>\n",
       "      <th>4572</th>\n",
       "      <td>a75fa8770257e7c9368d059fe53d9ef431f4bdef</td>\n",
       "      <td>461</td>\n",
       "    </tr>\n",
       "    <tr>\n",
       "      <th>4573</th>\n",
       "      <td>655fa6306720ff16e825903b5422a46608a77545</td>\n",
       "      <td>620</td>\n",
       "    </tr>\n",
       "    <tr>\n",
       "      <th>4574</th>\n",
       "      <td>1f4bc3e3d56212d500625bfe8ac78ccff4362293</td>\n",
       "      <td>444</td>\n",
       "    </tr>\n",
       "  </tbody>\n",
       "</table>\n",
       "<p>3286 rows × 2 columns</p>\n",
       "</div>"
      ],
      "text/plain": [
       "                                  NU_INSCRICAO  NU_NOTA_MT\n",
       "0     73ff9fcc02f0a99919906c942c2e1a1042cdcf98         436\n",
       "1     71a95f9f1b91a82c65ad94abbdf9f54e6066f968         433\n",
       "2     b38a03232f43b11c9d0788abaf060f7366053b6d         580\n",
       "4     715494628a50142ce8cb17191cfe6d0f3cae0934         539\n",
       "5     e656d6bad65c93fb2880f1eba5037008c8e75774         464\n",
       "...                                        ...         ...\n",
       "4570  13aaf6335f43cfc1b8baeac559324f20b2653724         510\n",
       "4571  dac0f22429c7f8e3931d0abaf5dfc8e5c772a48b         445\n",
       "4572  a75fa8770257e7c9368d059fe53d9ef431f4bdef         461\n",
       "4573  655fa6306720ff16e825903b5422a46608a77545         620\n",
       "4574  1f4bc3e3d56212d500625bfe8ac78ccff4362293         444\n",
       "\n",
       "[3286 rows x 2 columns]"
      ]
     },
     "execution_count": 11,
     "metadata": {},
     "output_type": "execute_result"
    }
   ],
   "source": [
    "#Formatando resultado\n",
    "\n",
    "resultado = pd.DataFrame({\"NU_INSCRICAO\": df_teste[\"NU_INSCRICAO\"],\"NU_NOTA_MT\" : Y_previsao})\n",
    "\n",
    "resultado"
   ]
  },
  {
   "cell_type": "code",
   "execution_count": 12,
   "metadata": {},
   "outputs": [],
   "source": [
    "#Salvando em .csv\n",
    "\n",
    "resultado.to_csv(\"answer.csv\",index=False) "
   ]
  }
 ],
 "metadata": {
  "kernelspec": {
   "display_name": "Python 3",
   "language": "python",
   "name": "python3"
  },
  "language_info": {
   "codemirror_mode": {
    "name": "ipython",
    "version": 3
   },
   "file_extension": ".py",
   "mimetype": "text/x-python",
   "name": "python",
   "nbconvert_exporter": "python",
   "pygments_lexer": "ipython3",
   "version": "3.7.6"
  }
 },
 "nbformat": 4,
 "nbformat_minor": 4
}
